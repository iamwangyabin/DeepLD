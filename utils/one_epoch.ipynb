{
 "cells": [
  {
   "cell_type": "code",
   "execution_count": 1,
   "metadata": {},
   "outputs": [],
   "source": [
    "import os\n",
    "import sys\n",
    "import numpy as np\n",
    "import tensorflow as tf\n",
    "import importlib\n",
    "import time\n",
    "import cv2\n",
    "from tqdm import tqdm\n",
    "import pickle\n",
    "\n",
    "sys.path.append(\"../\")\n",
    "import DatasetsBuilder\n",
    "\n",
    "import getConfig\n",
    "config,unparsed=getConfig.get_lfconfig()"
   ]
  },
  {
   "cell_type": "markdown",
   "metadata": {},
   "source": [
    "# main"
   ]
  },
  {
   "cell_type": "code",
   "execution_count": 2,
   "metadata": {},
   "outputs": [
    {
     "name": "stdout",
     "output_type": "stream",
     "text": [
      "['../dataset/scan/train.tfrecord']\n",
      "aug_mode=random max_rad=3.141592653589793, max_scale_log=0.34642256747438094\n",
      "Add random logscale=-0.35~0.35, ori=-3.141592653589793~3.141592653589793\n"
     ]
    }
   ],
   "source": [
    "# tf.reset_default_graph() # for sure\n",
    "\n",
    "# log_dir = config.log_dir\n",
    "# batch_size = config.batch_size\n",
    "# optim_method = config.optim_method\n",
    "# learning_rate = config.lr\n",
    "# va_batch_size = 1\n",
    "\n",
    "tr_loader = DatasetsBuilder.SfMDataset(out_size=(362, 362), \n",
    "                   warp_aug_mode='random', flip_pair=True, max_degree=180, max_scale=1.414,\n",
    "                   num_threads=2)\n",
    "tr_dataset = tr_loader.get_dataset('../dataset', 'config.sfm_img_dir', \n",
    "                    'scan', phase='train',\n",
    "                    batch_size=6, shuffle=True)\n",
    "# config.depth_thresh = tr_loader.depth_thresh\n"
   ]
  },
  {
   "cell_type": "code",
   "execution_count": 3,
   "metadata": {},
   "outputs": [],
   "source": [
    "iterator = tr_dataset.make_one_shot_iterator()\n",
    "next_element = iterator.get_next()\n",
    "next_batch = list(next_element)"
   ]
  },
  {
   "cell_type": "code",
   "execution_count": 4,
   "metadata": {},
   "outputs": [
    {
     "name": "stdout",
     "output_type": "stream",
     "text": [
      "Tensor(\"strided_slice_1:0\", shape=(?, ?), dtype=float32)\n"
     ]
    }
   ],
   "source": [
    "next_batch = DatasetsBuilder.euclidean_augmentation(next_batch, (config.data_size, config.data_size), config.rot_aug, config.scale_aug)"
   ]
  },
  {
   "cell_type": "code",
   "execution_count": 5,
   "metadata": {},
   "outputs": [
    {
     "data": {
      "text/plain": [
       "[<tf.Tensor 'Slice:0' shape=(?, ?, ?, 1) dtype=float32>,\n",
       " <tf.Tensor 'Slice_3:0' shape=(?, ?, ?, 1) dtype=float32>,\n",
       " <tf.Tensor 'Slice_1:0' shape=(?, ?, ?, 1) dtype=float32>,\n",
       " <tf.Tensor 'Slice_4:0' shape=(?, ?, ?, 1) dtype=float32>,\n",
       " <tf.Tensor 'Cast:0' shape=(?, ?, ?, 1) dtype=float32>,\n",
       " <tf.Tensor 'Cast_1:0' shape=(?, ?, ?, 1) dtype=float32>,\n",
       " <tf.Tensor 'IteratorGetNext:6' shape=(?, 4, 4) dtype=float32>,\n",
       " <tf.Tensor 'IteratorGetNext:7' shape=(?, 4, 4) dtype=float32>,\n",
       " <tf.Tensor 'IteratorGetNext:8' shape=(?, 4, 4) dtype=float32>,\n",
       " <tf.Tensor 'IteratorGetNext:9' shape=(?, 4, 4) dtype=float32>,\n",
       " <tf.Tensor 'cond_2/Merge:0' shape=(?, 3, 3) dtype=float32>,\n",
       " <tf.Tensor 'cond_3/Merge:0' shape=(?, 3, 3) dtype=float32>,\n",
       " <tf.Tensor 'Tile:0' shape=(?, 3, 3) dtype=float32>,\n",
       " <tf.Tensor 'MatMul:0' shape=(?, 3, 3) dtype=float32>,\n",
       " <tf.Tensor 'MatrixInverse:0' shape=(?, 3, 3) dtype=float32>,\n",
       " <tf.Tensor 'MatrixInverse_1:0' shape=(?, 3, 3) dtype=float32>,\n",
       " <tf.Tensor 'IteratorGetNext:12' shape=(?, ?) dtype=float32>]"
      ]
     },
     "execution_count": 5,
     "metadata": {},
     "output_type": "execute_result"
    }
   ],
   "source": [
    "next_batch"
   ]
  }
 ],
 "metadata": {
  "kernelspec": {
   "display_name": "Python 3",
   "language": "python",
   "name": "python3"
  },
  "language_info": {
   "codemirror_mode": {
    "name": "ipython",
    "version": 3
   },
   "file_extension": ".py",
   "mimetype": "text/x-python",
   "name": "python",
   "nbconvert_exporter": "python",
   "pygments_lexer": "ipython3",
   "version": "3.5.6"
  }
 },
 "nbformat": 4,
 "nbformat_minor": 2
}
