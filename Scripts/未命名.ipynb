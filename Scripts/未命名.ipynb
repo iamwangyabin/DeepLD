{
 "cells": [
  {
   "cell_type": "code",
   "execution_count": 55,
   "metadata": {},
   "outputs": [],
   "source": [
    "import tensorflow as tf\n",
    "import numpy as np"
   ]
  },
  {
   "cell_type": "code",
   "execution_count": 64,
   "metadata": {},
   "outputs": [],
   "source": [
    "v3 = tf.range(25.0)"
   ]
  },
  {
   "cell_type": "code",
   "execution_count": 44,
   "metadata": {},
   "outputs": [],
   "source": [
    "v3=tf.reshape(v3, [1,1,3,3], name=None)"
   ]
  },
  {
   "cell_type": "code",
   "execution_count": 30,
   "metadata": {
    "scrolled": true
   },
   "outputs": [
    {
     "name": "stdout",
     "output_type": "stream",
     "text": [
      "[[[[0. 1. 2.]\n",
      "   [3. 4. 5.]\n",
      "   [6. 7. 8.]]]]\n"
     ]
    }
   ],
   "source": [
    "with tf.Session() as sess:\n",
    "    print(sess.run(v3))\n",
    "#     print(sess.run(output))"
   ]
  },
  {
   "cell_type": "code",
   "execution_count": 31,
   "metadata": {},
   "outputs": [],
   "source": [
    "mean, variance = tf.nn.moments(v3, axes=[2,3], keep_dims=True)"
   ]
  },
  {
   "cell_type": "code",
   "execution_count": 32,
   "metadata": {},
   "outputs": [],
   "source": [
    "outputs = tf.nn.batch_normalization(v3, mean, variance, None, None, 1e-6)"
   ]
  },
  {
   "cell_type": "code",
   "execution_count": 35,
   "metadata": {},
   "outputs": [
    {
     "name": "stdout",
     "output_type": "stream",
     "text": [
      "[[[[-1.5491933  -1.1618949  -0.77459663]\n",
      "   [-0.38729835  0.          0.38729835]\n",
      "   [ 0.7745966   1.1618949   1.5491933 ]]]]\n"
     ]
    }
   ],
   "source": [
    "with tf.Session() as sess:\n",
    "    print(sess.run(outputs))"
   ]
  },
  {
   "cell_type": "code",
   "execution_count": 89,
   "metadata": {},
   "outputs": [],
   "source": [
    "v3 = tf.range(49.0)"
   ]
  },
  {
   "cell_type": "code",
   "execution_count": 90,
   "metadata": {},
   "outputs": [],
   "source": [
    "v2=tf.reshape(v3, [1,7,7,1], name=None)"
   ]
  },
  {
   "cell_type": "code",
   "execution_count": 91,
   "metadata": {},
   "outputs": [],
   "source": [
    "max_logits = tf.nn.max_pool(v2, [1,3,3, 1],\n",
    "                            strides=[1,1,1,1], padding='SAME')"
   ]
  },
  {
   "cell_type": "code",
   "execution_count": 92,
   "metadata": {},
   "outputs": [],
   "source": [
    "sum_filter = tf.constant(np.ones((3,3,1,1)), dtype=tf.float32) "
   ]
  },
  {
   "cell_type": "code",
   "execution_count": 98,
   "metadata": {},
   "outputs": [],
   "source": [
    "ex = tf.exp(1.0 * (v2 - max_logits))"
   ]
  },
  {
   "cell_type": "code",
   "execution_count": 99,
   "metadata": {},
   "outputs": [],
   "source": [
    "sum_ex = tf.nn.conv2d(ex, sum_filter, [1,1,1,1], padding='SAME')"
   ]
  },
  {
   "cell_type": "code",
   "execution_count": 100,
   "metadata": {},
   "outputs": [],
   "source": [
    "probs = ex / (sum_ex + 1e-6)"
   ]
  },
  {
   "cell_type": "code",
   "execution_count": 97,
   "metadata": {},
   "outputs": [
    {
     "data": {
      "text/plain": [
       "TensorShape([Dimension(1), Dimension(7), Dimension(7), Dimension(1)])"
      ]
     },
     "execution_count": 97,
     "metadata": {},
     "output_type": "execute_result"
    }
   ],
   "source": [
    "probs.shape"
   ]
  },
  {
   "cell_type": "code",
   "execution_count": 101,
   "metadata": {
    "scrolled": false
   },
   "outputs": [
    {
     "name": "stdout",
     "output_type": "stream",
     "text": [
      "[[[[2.4981382e-01]\n",
      "   [1.6658390e-01]\n",
      "   [1.6658390e-01]\n",
      "   [1.6658390e-01]\n",
      "   [1.6658390e-01]\n",
      "   [1.0593732e-01]\n",
      "   [3.6538285e-01]]\n",
      "\n",
      "  [[1.6658390e-01]\n",
      "   [1.1107432e-01]\n",
      "   [1.1107432e-01]\n",
      "   [1.1107432e-01]\n",
      "   [1.1107432e-01]\n",
      "   [7.0632316e-02]\n",
      "   [2.4362110e-01]]\n",
      "\n",
      "  [[1.6658390e-01]\n",
      "   [1.1107432e-01]\n",
      "   [1.1107432e-01]\n",
      "   [1.1107432e-01]\n",
      "   [1.1107432e-01]\n",
      "   [7.0632316e-02]\n",
      "   [2.4362110e-01]]\n",
      "\n",
      "  [[1.6658390e-01]\n",
      "   [1.1107432e-01]\n",
      "   [1.1107432e-01]\n",
      "   [1.1107432e-01]\n",
      "   [1.1107432e-01]\n",
      "   [7.0632316e-02]\n",
      "   [2.4362110e-01]]\n",
      "\n",
      "  [[1.6658390e-01]\n",
      "   [1.1107432e-01]\n",
      "   [1.1107432e-01]\n",
      "   [1.1107432e-01]\n",
      "   [1.1107432e-01]\n",
      "   [7.0632316e-02]\n",
      "   [2.4362110e-01]]\n",
      "\n",
      "  [[4.5511033e-04]\n",
      "   [3.0340703e-04]\n",
      "   [3.0340703e-04]\n",
      "   [3.0340703e-04]\n",
      "   [3.0340703e-04]\n",
      "   [1.9291375e-04]\n",
      "   [6.6542515e-04]]\n",
      "\n",
      "  [[4.9954379e-01]\n",
      "   [3.3302936e-01]\n",
      "   [3.3302936e-01]\n",
      "   [3.3302936e-01]\n",
      "   [3.3302936e-01]\n",
      "   [2.1174836e-01]\n",
      "   [7.3039204e-01]]]]\n"
     ]
    }
   ],
   "source": [
    "with tf.Session() as sess:\n",
    "    print(sess.run(probs))"
   ]
  },
  {
   "cell_type": "code",
   "execution_count": null,
   "metadata": {},
   "outputs": [],
   "source": []
  },
  {
   "cell_type": "code",
   "execution_count": null,
   "metadata": {},
   "outputs": [],
   "source": []
  },
  {
   "cell_type": "code",
   "execution_count": 51,
   "metadata": {},
   "outputs": [
    {
     "name": "stdout",
     "output_type": "stream",
     "text": [
      "[[[[ 357.]\n",
      "   [ 358.]\n",
      "   [ 359.]\n",
      "   ...\n",
      "   [ 399.]\n",
      "   [ 399.]\n",
      "   [ 399.]]\n",
      "\n",
      "  [[ 407.]\n",
      "   [ 408.]\n",
      "   [ 409.]\n",
      "   ...\n",
      "   [ 449.]\n",
      "   [ 449.]\n",
      "   [ 449.]]\n",
      "\n",
      "  [[ 457.]\n",
      "   [ 458.]\n",
      "   [ 459.]\n",
      "   ...\n",
      "   [ 499.]\n",
      "   [ 499.]\n",
      "   [ 499.]]\n",
      "\n",
      "  ...\n",
      "\n",
      "  [[2457.]\n",
      "   [2458.]\n",
      "   [2459.]\n",
      "   ...\n",
      "   [2499.]\n",
      "   [2499.]\n",
      "   [2499.]]\n",
      "\n",
      "  [[2457.]\n",
      "   [2458.]\n",
      "   [2459.]\n",
      "   ...\n",
      "   [2499.]\n",
      "   [2499.]\n",
      "   [2499.]]\n",
      "\n",
      "  [[2457.]\n",
      "   [2458.]\n",
      "   [2459.]\n",
      "   ...\n",
      "   [2499.]\n",
      "   [2499.]\n",
      "   [2499.]]]]\n"
     ]
    }
   ],
   "source": [
    "with tf.Session() as sess:\n",
    "    print(sess.run(max_logits))"
   ]
  },
  {
   "cell_type": "code",
   "execution_count": 53,
   "metadata": {},
   "outputs": [
    {
     "data": {
      "text/plain": [
       "TensorShape([Dimension(1), Dimension(50), Dimension(50), Dimension(1)])"
      ]
     },
     "execution_count": 53,
     "metadata": {},
     "output_type": "execute_result"
    }
   ],
   "source": [
    "max_logits.shape"
   ]
  }
 ],
 "metadata": {
  "kernelspec": {
   "display_name": "Python 3",
   "language": "python",
   "name": "python3"
  },
  "language_info": {
   "codemirror_mode": {
    "name": "ipython",
    "version": 3
   },
   "file_extension": ".py",
   "mimetype": "text/x-python",
   "name": "python",
   "nbconvert_exporter": "python",
   "pygments_lexer": "ipython3",
   "version": "3.7.3"
  }
 },
 "nbformat": 4,
 "nbformat_minor": 2
}
