{
 "cells": [
  {
   "cell_type": "code",
   "execution_count": 1,
   "metadata": {},
   "outputs": [],
   "source": [
    "import os\n",
    "import sys\n",
    "import numpy as np\n",
    "import tensorflow as tf\n",
    "import importlib\n",
    "import time\n",
    "import cv2\n",
    "DATASET_PATH = '../dataset'\n",
    "if DATASET_PATH not in sys.path:\n",
    "    sys.path.append(DATASET_PATH)"
   ]
  },
  {
   "cell_type": "markdown",
   "metadata": {},
   "source": [
    "不知道为啥算出来的c1Tc2矩阵不对"
   ]
  },
  {
   "cell_type": "code",
   "execution_count": 43,
   "metadata": {},
   "outputs": [],
   "source": [
    "def get_delta_pose(c1Tw, c2Tw):\n",
    "    # cTw = world to camera pose [4x4 matrix]\n",
    "    # return = c2Tc1, which means c1 to c2 pose\n",
    "    c1Rw = tf.slice(c1Tw, [0,0], [3,3])\n",
    "    c2Rw = tf.slice(c2Tw, [0,0], [3,3])\n",
    "    c1Pw = tf.slice(c1Tw, [0,3], [3,1])\n",
    "    c2Pw = tf.slice(c2Tw, [0,3], [3,1])\n",
    "    wPc1 = -tf.matmul(c1Rw, c1Pw, transpose_a=True) # wPc = -wRc cPw\n",
    "    wPc2 = -tf.matmul(c2Rw, c2Pw, transpose_a=True) # wPc = -wRc cPw\n",
    "    c2Rc1 = tf.matmul(c2Rw, c1Rw, transpose_b=True) # c2Rc1 = c2Rw wRc1\n",
    "    c2Pc1 = tf.matmul(c2Rw, wPc1-wPc2) # c2Pc1 = c2Rw (wPc1-wPc2)\n",
    "    # c2Tc1 (4x4) = \n",
    "    # | c2Rc1 c2Pc1 |\n",
    "    # |   0     1   |\n",
    "    c2Tc1 = tf.concat([c2Rc1, c2Pc1], axis=1)\n",
    "    c2Tc1 = tf.concat([c2Tc1, tf.constant([[0,0,0,1]], dtype=tf.float32)], axis=0)\n",
    "    c1Tc2 = tf.matrix_inverse(c2Tc1)\n",
    "    return c2Tc1, c1Tc2"
   ]
  },
  {
   "cell_type": "code",
   "execution_count": 2,
   "metadata": {},
   "outputs": [],
   "source": [
    "a = np.loadtxt('../dataset/pose/0.txt')"
   ]
  },
  {
   "cell_type": "code",
   "execution_count": 3,
   "metadata": {},
   "outputs": [],
   "source": [
    "b = np.loadtxt('../dataset/pose/100.txt')"
   ]
  },
  {
   "cell_type": "code",
   "execution_count": 41,
   "metadata": {},
   "outputs": [],
   "source": [
    "c1Rw = a[:3,:3]\n",
    "c2Rw = b[:3,:3]\n",
    "c1Pw = np.array([a[:3,3]]).T\n",
    "c2Pw = np.array([b[:3,3]]).T"
   ]
  },
  {
   "cell_type": "code",
   "execution_count": 42,
   "metadata": {},
   "outputs": [
    {
     "data": {
      "text/plain": [
       "array([[-9.55421e-01,  1.19616e-01, -2.69932e-01],\n",
       "       [ 2.95248e-01,  3.88339e-01, -8.72939e-01],\n",
       "       [ 4.08000e-04, -9.13720e-01, -4.06343e-01]])"
      ]
     },
     "execution_count": 42,
     "metadata": {},
     "output_type": "execute_result"
    }
   ],
   "source": [
    "c1Rw"
   ]
  },
  {
   "cell_type": "code",
   "execution_count": 6,
   "metadata": {},
   "outputs": [
    {
     "data": {
      "text/plain": [
       "(3, 3)"
      ]
     },
     "execution_count": 6,
     "metadata": {},
     "output_type": "execute_result"
    }
   ],
   "source": [
    "c2Rw.shape"
   ]
  },
  {
   "cell_type": "code",
   "execution_count": 7,
   "metadata": {},
   "outputs": [],
   "source": [
    "wPc1=-np.matmul(c1Rw.T,c1Pw)"
   ]
  },
  {
   "cell_type": "code",
   "execution_count": 8,
   "metadata": {},
   "outputs": [],
   "source": [
    "wPc2=-np.matmul(c2Rw.T,c2Pw)"
   ]
  },
  {
   "cell_type": "code",
   "execution_count": 9,
   "metadata": {},
   "outputs": [],
   "source": [
    "c2Rc1 = np.matmul(c2Rw, c1Rw.T) # c2Rc1 = c2Rw wRc1"
   ]
  },
  {
   "cell_type": "code",
   "execution_count": 10,
   "metadata": {},
   "outputs": [],
   "source": [
    "c2Pc1 = np.matmul(c2Rw, wPc1-wPc2) # c2Pc1 = c2Rw (wPc1-wPc2)"
   ]
  },
  {
   "cell_type": "code",
   "execution_count": 11,
   "metadata": {},
   "outputs": [
    {
     "data": {
      "text/plain": [
       "array([[-0.19752763],\n",
       "       [ 0.41206409],\n",
       "       [ 0.70960995]])"
      ]
     },
     "execution_count": 11,
     "metadata": {},
     "output_type": "execute_result"
    }
   ],
   "source": [
    "c2Pc1"
   ]
  },
  {
   "cell_type": "code",
   "execution_count": 12,
   "metadata": {},
   "outputs": [],
   "source": [
    "c2Tc1 = np.concatenate((c2Rc1, c2Pc1), axis=1)"
   ]
  },
  {
   "cell_type": "code",
   "execution_count": 13,
   "metadata": {},
   "outputs": [
    {
     "data": {
      "text/plain": [
       "array([[ 0.99504734,  0.08814556,  0.0459535 , -0.19752763],\n",
       "       [-0.09445814,  0.98245171,  0.16083608,  0.41206409],\n",
       "       [-0.03096968, -0.16438074,  0.9859096 ,  0.70960995]])"
      ]
     },
     "execution_count": 13,
     "metadata": {},
     "output_type": "execute_result"
    }
   ],
   "source": [
    "c2Tc1"
   ]
  },
  {
   "cell_type": "code",
   "execution_count": 14,
   "metadata": {},
   "outputs": [],
   "source": [
    "c2Tc1 = np.concatenate([c2Tc1, np.array([[0,0,0,1]], dtype=np.float32)], axis=0)"
   ]
  },
  {
   "cell_type": "code",
   "execution_count": 15,
   "metadata": {},
   "outputs": [],
   "source": [
    "c1Tc2 = np.linalg.inv(c2Tc1)"
   ]
  },
  {
   "cell_type": "code",
   "execution_count": 16,
   "metadata": {},
   "outputs": [
    {
     "data": {
      "text/plain": [
       "array([[ 0.99504673, -0.0944574 , -0.0309701 ,  0.25744842],\n",
       "       [ 0.08814612,  0.98244969, -0.16438016, -0.27077514],\n",
       "       [ 0.0459533 ,  0.16083675,  0.98591182, -0.75681084],\n",
       "       [ 0.        ,  0.        ,  0.        ,  1.        ]])"
      ]
     },
     "execution_count": 16,
     "metadata": {},
     "output_type": "execute_result"
    }
   ],
   "source": [
    "c1Tc2"
   ]
  },
  {
   "cell_type": "code",
   "execution_count": 17,
   "metadata": {},
   "outputs": [
    {
     "data": {
      "text/plain": [
       "array([[-0.924645,  0.111265, -0.364214,  2.770857],\n",
       "       [ 0.380379,  0.223266, -0.897477,  3.310602],\n",
       "       [-0.018542, -0.968386, -0.248764,  1.486608],\n",
       "       [ 0.      ,  0.      ,  0.      ,  1.      ]])"
      ]
     },
     "execution_count": 17,
     "metadata": {},
     "output_type": "execute_result"
    }
   ],
   "source": [
    "b"
   ]
  },
  {
   "cell_type": "code",
   "execution_count": 18,
   "metadata": {
    "scrolled": true
   },
   "outputs": [
    {
     "data": {
      "text/plain": [
       "array([[-9.554210e-01,  1.196160e-01, -2.699320e-01,  2.655830e+00],\n",
       "       [ 2.952480e-01,  3.883390e-01, -8.729390e-01,  2.981598e+00],\n",
       "       [ 4.080000e-04, -9.137200e-01, -4.063430e-01,  1.368648e+00],\n",
       "       [ 0.000000e+00,  0.000000e+00,  0.000000e+00,  1.000000e+00]])"
      ]
     },
     "execution_count": 18,
     "metadata": {},
     "output_type": "execute_result"
    }
   ],
   "source": [
    "a"
   ]
  },
  {
   "cell_type": "code",
   "execution_count": 19,
   "metadata": {},
   "outputs": [
    {
     "data": {
      "text/plain": [
       "array([[-0.02790412,  0.0530833 ,  0.10801184, -0.1891002 ],\n",
       "       [-0.0924773 , -0.0100315 , -0.03614297,  0.30250428],\n",
       "       [-0.0802657 ,  0.00530864, -0.00166956,  0.43708249],\n",
       "       [ 0.        ,  0.        ,  0.        ,  0.        ]])"
      ]
     },
     "execution_count": 19,
     "metadata": {},
     "output_type": "execute_result"
    }
   ],
   "source": [
    "a.dot(c1Tc2)-b"
   ]
  },
  {
   "cell_type": "code",
   "execution_count": 21,
   "metadata": {},
   "outputs": [
    {
     "data": {
      "text/plain": [
       "array([[ 0.03612516, -0.03193709, -0.11374533,  0.08506837],\n",
       "       [ 0.0899524 ,  0.01206572,  0.04149678, -0.29099007],\n",
       "       [ 0.08031791,  0.00158514,  0.0044807 , -0.45393994],\n",
       "       [ 0.        ,  0.        ,  0.        ,  0.        ]])"
      ]
     },
     "execution_count": 21,
     "metadata": {},
     "output_type": "execute_result"
    }
   ],
   "source": [
    "b.dot(c2Tc1)-a"
   ]
  },
  {
   "cell_type": "code",
   "execution_count": null,
   "metadata": {},
   "outputs": [],
   "source": []
  },
  {
   "cell_type": "code",
   "execution_count": 37,
   "metadata": {},
   "outputs": [],
   "source": [
    "c1Rw = tf.slice(a, [0,0], [3,3])\n",
    "c2Rw = tf.slice(b, [0,0], [3,3])\n",
    "c1Pw = tf.slice(a, [0,3], [3,1])\n",
    "c2Pw = tf.slice(b, [0,3], [3,1])"
   ]
  },
  {
   "cell_type": "code",
   "execution_count": 38,
   "metadata": {},
   "outputs": [
    {
     "data": {
      "text/plain": [
       "<tf.Tensor 'Slice_8:0' shape=(3, 3) dtype=float64>"
      ]
     },
     "execution_count": 38,
     "metadata": {},
     "output_type": "execute_result"
    }
   ],
   "source": [
    "c1Rw"
   ]
  },
  {
   "cell_type": "code",
   "execution_count": 39,
   "metadata": {},
   "outputs": [
    {
     "data": {
      "text/plain": [
       "<tf.Tensor 'Slice_10:0' shape=(3, 1) dtype=float64>"
      ]
     },
     "execution_count": 39,
     "metadata": {},
     "output_type": "execute_result"
    }
   ],
   "source": [
    "c1Pw"
   ]
  },
  {
   "cell_type": "code",
   "execution_count": 40,
   "metadata": {},
   "outputs": [
    {
     "name": "stdout",
     "output_type": "stream",
     "text": [
      "[[-9.55421e-01  1.19616e-01 -2.69932e-01]\n",
      " [ 2.95248e-01  3.88339e-01 -8.72939e-01]\n",
      " [ 4.08000e-04 -9.13720e-01 -4.06343e-01]]\n"
     ]
    }
   ],
   "source": [
    "with tf.Session() as sess:\n",
    "    print(sess.run(c1Rw))\n",
    "    \n",
    "        c1Rw = tf.slice(c1Tw, [0,0], [3,3])\n",
    "    c2Rw = tf.slice(c2Tw, [0,0], [3,3])\n",
    "    c1Pw = tf.slice(c1Tw, [0,3], [3,1])\n",
    "    c2Pw = tf.slice(c2Tw, [0,3], [3,1])\n",
    "    wPc1 = -tf.matmul(c1Rw, c1Pw, transpose_a=True) # wPc = -wRc cPw\n",
    "    wPc2 = -tf.matmul(c2Rw, c2Pw, transpose_a=True) # wPc = -wRc cPw\n",
    "    c2Rc1 = tf.matmul(c2Rw, c1Rw, transpose_b=True) # c2Rc1 = c2Rw wRc1\n",
    "    c2Pc1 = tf.matmul(c2Rw, wPc1-wPc2) # c2Pc1 = c2Rw (wPc1-wPc2)\n",
    "    # c2Tc1 (4x4) = \n",
    "    # | c2Rc1 c2Pc1 |\n",
    "    # |   0     1   |\n",
    "    c2Tc1 = tf.concat([c2Rc1, c2Pc1], axis=1)\n",
    "    c2Tc1 = tf.concat([c2Tc1, tf.constant([[0,0,0,1]], dtype=tf.float32)], axis=0)\n",
    "    c1Tc2 = tf.matrix_inverse(c2Tc1)"
   ]
  },
  {
   "cell_type": "code",
   "execution_count": 59,
   "metadata": {},
   "outputs": [
    {
     "name": "stdout",
     "output_type": "stream",
     "text": [
      "[[ 0.99504673 -0.0944574  -0.0309701   0.25744842]\n",
      " [ 0.08814612  0.98244969 -0.16438016 -0.27077514]\n",
      " [ 0.0459533   0.16083675  0.98591182 -0.75681084]\n",
      " [ 0.          0.          0.          1.        ]]\n"
     ]
    }
   ],
   "source": [
    "c1Rw = tf.slice(a, [0,0], [3,3])\n",
    "c2Rw = tf.slice(b, [0,0], [3,3])\n",
    "c1Pw = tf.slice(a, [0,3], [3,1])\n",
    "c2Pw = tf.slice(b, [0,3], [3,1])\n",
    "wPc1 = -tf.matmul(c1Rw, c1Pw, transpose_a=True) # wPc = -wRc cPw\n",
    "wPc2 = -tf.matmul(c2Rw, c2Pw, transpose_a=True) # wPc = -wRc cPw\n",
    "c2Rc1 = tf.matmul(c2Rw, c1Rw, transpose_b=True) # c2Rc1 = c2Rw wRc1\n",
    "c2Pc1 = tf.matmul(c2Rw, wPc1-wPc2) # c2Pc1 = c2Rw (wPc1-wPc2)\n",
    "\n",
    "c2Tc1 = tf.concat([c2Rc1, c2Pc1], axis=1)\n",
    "c2Tc1 = tf.concat([c2Tc1, tf.constant([[0,0,0,1]], dtype=tf.float64)], axis=0)\n",
    "\n",
    "c1Tc2 = tf.matrix_inverse(c2Tc1)\n",
    "\n",
    "with tf.Session() as sess:\n",
    "    print(sess.run(c1Tc2))\n"
   ]
  },
  {
   "cell_type": "code",
   "execution_count": 57,
   "metadata": {},
   "outputs": [
    {
     "ename": "AttributeError",
     "evalue": "'Tensor' object has no attribute 'numpy'",
     "output_type": "error",
     "traceback": [
      "\u001b[0;31m---------------------------------------------------------------------------\u001b[0m",
      "\u001b[0;31mAttributeError\u001b[0m                            Traceback (most recent call last)",
      "\u001b[0;32m<ipython-input-57-73c3bbeb83fd>\u001b[0m in \u001b[0;36m<module>\u001b[0;34m\u001b[0m\n\u001b[0;32m----> 1\u001b[0;31m \u001b[0mc2Tc1\u001b[0m\u001b[0;34m=\u001b[0m\u001b[0mc2Tc1\u001b[0m\u001b[0;34m.\u001b[0m\u001b[0mnumpy\u001b[0m\u001b[0;34m(\u001b[0m\u001b[0;34m)\u001b[0m\u001b[0;34m\u001b[0m\u001b[0m\n\u001b[0m",
      "\u001b[0;31mAttributeError\u001b[0m: 'Tensor' object has no attribute 'numpy'"
     ]
    }
   ],
   "source": [
    "    with tf.Session() as sess:\n",
    "    data_numpy = data_tensor.eval()"
   ]
  },
  {
   "cell_type": "code",
   "execution_count": null,
   "metadata": {},
   "outputs": [],
   "source": [
    "array([[ 0.99504673, -0.0944574 , -0.0309701 ,  0.25744842],\n",
    "       [ 0.08814612,  0.98244969, -0.16438016, -0.27077514],\n",
    "       [ 0.0459533 ,  0.16083675,  0.98591182, -0.75681084],\n",
    "       [ 0.        ,  0.        ,  0.        ,  1.        ]])"
   ]
  }
 ],
 "metadata": {
  "kernelspec": {
   "display_name": "Python 3",
   "language": "python",
   "name": "python3"
  },
  "language_info": {
   "codemirror_mode": {
    "name": "ipython",
    "version": 3
   },
   "file_extension": ".py",
   "mimetype": "text/x-python",
   "name": "python",
   "nbconvert_exporter": "python",
   "pygments_lexer": "ipython3",
   "version": "3.5.6"
  }
 },
 "nbformat": 4,
 "nbformat_minor": 2
}
