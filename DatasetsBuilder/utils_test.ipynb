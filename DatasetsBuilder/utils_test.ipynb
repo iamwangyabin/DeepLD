{
 "cells": [
  {
   "cell_type": "code",
   "execution_count": 4,
   "metadata": {},
   "outputs": [],
   "source": [
    "import os\n",
    "import sys\n",
    "import numpy as np\n",
    "import tensorflow as tf\n",
    "import importlib\n",
    "import time\n",
    "import cv2\n",
    "DATASET_PATH = '../dataset'\n",
    "if DATASET_PATH not in sys.path:\n",
    "    sys.path.append(DATASET_PATH)"
   ]
  },
  {
   "cell_type": "code",
   "execution_count": 3,
   "metadata": {},
   "outputs": [],
   "source": [
    "def compute_multi_scale_keypoints(image, num_kp=512, algo='sift'):\n",
    "    if algo == 'sift':\n",
    "        competitor = cv2.xfeatures2d.SIFT_create(nfeatures=num_kp, contrastThreshold=1e-5)\n",
    "    elif algo == 'orb':\n",
    "        # competitor = cv2.ORB_create(nfeatures=num_kp)\n",
    "        # competitor = cv2.ORB_create(nfeatures=num_kp, edgeThreshold=11, patchSize=11)\n",
    "        competitor = cv2.ORB_create(nfeatures=num_kp, edgeThreshold=7, patchSize=7)\n",
    "    elif algo == 'akaze':\n",
    "        competitor = cv2.AKAZE_create(threshold=0.000001)\n",
    "    elif algo == 'kaze':\n",
    "        competitor = cv2.KAZE_create()\n",
    "    elif algo == 'surf':\n",
    "        competitor = cv2.xfeatures2d.SURF_create(hessianThreshold=10)\n",
    "\n",
    "    height, width = image.shape[:2]\n",
    "    kpts_info, feats = competitor.detectAndCompute(image, None)\n",
    "    \n",
    "    N = len(kpts_info)\n",
    "    if N > num_kp:\n",
    "        # sort by response and filter out low score keypoints\n",
    "        kp_feats = []\n",
    "        for i in range(N):\n",
    "            kp_feats.append([kpts_info[i], feats[i]])\n",
    "        new_kp_feats = sorted(kp_feats, key=lambda x: x[0].response, reverse=True) # sort descending order\n",
    "        new_kpts = [x[0] for x in new_kp_feats]\n",
    "        new_feats = [x[1] for x in new_kp_feats]\n",
    "        kpts_info = new_kpts[:num_kp]\n",
    "        feats = np.array(new_feats[:num_kp])\n",
    "\n",
    "    kpts = np.array([[kp.pt[0], kp.pt[1]] for kp in kpts_info])\n",
    "    kpts = kpts.reshape(-1, 2).astype(np.float32)\n",
    "    kpts = np.round(kpts).astype(np.int32)\n",
    "    kpts[:,0] = np.clip(kpts[:,0], 0, width-1)\n",
    "    kpts[:,1] = np.clip(kpts[:,1], 0, height-1)\n",
    "    return kpts, feats"
   ]
  },
  {
   "cell_type": "code",
   "execution_count": null,
   "metadata": {},
   "outputs": [],
   "source": [
    "def get_delta_pose(c1Tw, c2Tw):\n",
    "    # cTw = world to camera pose [4x4 matrix]\n",
    "    # return = c2Tc1, which means c1 to c2 pose\n",
    "    c1Rw = tf.slice(c1Tw, [0,0], [3,3])\n",
    "    c2Rw = tf.slice(c2Tw, [0,0], [3,3])\n",
    "    c1Pw = tf.slice(c1Tw, [0,3], [3,1])\n",
    "    c2Pw = tf.slice(c2Tw, [0,3], [3,1])\n",
    "    wPc1 = -tf.matmul(c1Rw, c1Pw, transpose_a=True) # wPc = -wRc cPw\n",
    "    wPc2 = -tf.matmul(c2Rw, c2Pw, transpose_a=True) # wPc = -wRc cPw\n",
    "    c2Rc1 = tf.matmul(c2Rw, c1Rw, transpose_b=True) # c2Rc1 = c2Rw wRc1\n",
    "    c2Pc1 = tf.matmul(c2Rw, wPc1-wPc2) # c2Pc1 = c2Rw (wPc1-wPc2)\n",
    "    # c2Tc1 (4x4) = \n",
    "    # | c2Rc1 c2Pc1 |\n",
    "    # |   0     1   |\n",
    "    c2Tc1 = tf.concat([c2Rc1, c2Pc1], axis=1)\n",
    "    c2Tc1 = tf.concat([c2Tc1, tf.constant([[0,0,0,1]], dtype=tf.float32)], axis=0)\n",
    "    c1Tc2 = tf.matrix_inverse(c2Tc1)\n",
    "    return c2Tc1, c1Tc2"
   ]
  },
  {
   "cell_type": "code",
   "execution_count": null,
   "metadata": {},
   "outputs": [],
   "source": []
  },
  {
   "cell_type": "code",
   "execution_count": null,
   "metadata": {},
   "outputs": [],
   "source": []
  }
 ],
 "metadata": {
  "kernelspec": {
   "display_name": "Python 3",
   "language": "python",
   "name": "python3"
  },
  "language_info": {
   "codemirror_mode": {
    "name": "ipython",
    "version": 3
   },
   "file_extension": ".py",
   "mimetype": "text/x-python",
   "name": "python",
   "nbconvert_exporter": "python",
   "pygments_lexer": "ipython3",
   "version": "3.5.6"
  }
 },
 "nbformat": 4,
 "nbformat_minor": 2
}
